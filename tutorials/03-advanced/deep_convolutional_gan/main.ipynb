{
 "cells": [
  {
   "cell_type": "code",
   "execution_count": null,
   "metadata": {},
   "outputs": [],
   "source": [
    "import argparse\n",
    "import os\n",
    "from solver import Solver\n",
    "from data_loader import get_loader\n",
    "from torch.backends import cudnn"
   ]
  },
  {
   "cell_type": "code",
   "execution_count": null,
   "metadata": {},
   "outputs": [],
   "source": [
    "def main(config):\n",
    "    cudnn.benchmark = True\n",
    "    \n",
    "    data_loader = get_loader(image_path=config.image_path,\n",
    "                             image_size=config.image_size,\n",
    "                             batch_size=config.batch_size,\n",
    "                             num_workers=config.num_workers)\n",
    "    \n",
    "    solver = Solver(config, data_loader)\n",
    "    \n",
    "    # Create directories if not exist\n",
    "    if not os.path.exists(config.model_path):\n",
    "        os.makedirs(config.model_path)\n",
    "    if not os.path.exists(config.sample_path):\n",
    "        os.makedirs(config.sample_path)\n",
    "    \n",
    "    # Train and sample the images\n",
    "    if config.mode == 'train':\n",
    "        solver.train()\n",
    "    elif config.mode == 'sample':\n",
    "        solver.sample()\n",
    "    "
   ]
  },
  {
   "cell_type": "code",
   "execution_count": null,
   "metadata": {},
   "outputs": [],
   "source": [
    "if __name__ == '__main__':\n",
    "    parser = argparse.ArgumentParser()\n",
    "    \n",
    "    # model hyper-parameters\n",
    "    parser.add_argument('--image_size', type=int, default=64)\n",
    "    parser.add_argument('--z_dim', type=int, default=100)\n",
    "    parser.add_argument('--g_conv_dim', type=int, default=64)\n",
    "    parser.add_argument('--d_conv_dim', type=int, default=64)\n",
    "    \n",
    "    # training hyper-parameters\n",
    "    parser.add_argument('--num_epochs', type=int, default=20)\n",
    "    parser.add_argument('--batch_size', type=int, default=32)\n",
    "    parser.add_argument('--sample_size', type=int, default=100)\n",
    "    parser.add_argument('--num_workers', type=int, default=2)\n",
    "    parser.add_argument('--lr', type=float, default=0.0002)\n",
    "    parser.add_argument('--beta1', type=float, default=0.5)        # momentum1 in Adam\n",
    "    parser.add_argument('--beta2', type=float, default=0.999)      # momentum2 in Adam\n",
    "    \n",
    "    # misc\n",
    "    parser.add_argument('--mode', type=str, default='train')\n",
    "    parser.add_argument('--model_path', type=str, default='./models')\n",
    "    parser.add_argument('--sample_path', type=str, default='./samples')\n",
    "    parser.add_argument('--image_path', type=str, default='./CelebA/128_crop')\n",
    "    parser.add_argument('--log_step', type=int , default=10)\n",
    "    parser.add_argument('--sample_step', type=int , default=500)\n",
    "\n",
    "    config = parser.parse_args()\n",
    "    print(config)\n",
    "    main(config)"
   ]
  }
 ],
 "metadata": {
  "kernelspec": {
   "display_name": "Python 3",
   "language": "python",
   "name": "python3"
  },
  "language_info": {
   "codemirror_mode": {
    "name": "ipython",
    "version": 3
   },
   "file_extension": ".py",
   "mimetype": "text/x-python",
   "name": "python",
   "nbconvert_exporter": "python",
   "pygments_lexer": "ipython3",
   "version": "3.5.2"
  }
 },
 "nbformat": 4,
 "nbformat_minor": 2
}
