{
 "cells": [
  {
   "cell_type": "code",
   "execution_count": null,
   "metadata": {},
   "outputs": [],
   "source": [
    "import torch\n",
    "import matplotlib.pyplot as plt\n",
    "import numpy as np \n",
    "import argparse\n",
    "import pickle \n",
    "import os\n",
    "from torch.autograd import Variable \n",
    "from torchvision import transforms \n",
    "from build_vocab import Vocabulary\n",
    "from model import EncoderCNN, DecoderRNN\n",
    "from PIL import Image"
   ]
  },
  {
   "cell_type": "code",
   "execution_count": null,
   "metadata": {},
   "outputs": [],
   "source": [
    "def to_var(x, volatile=False):\n",
    "    if torch.cuda.is_available():\n",
    "        x = x.cuda()\n",
    "    return Variable(x, volatile=volatile)"
   ]
  },
  {
   "cell_type": "code",
   "execution_count": null,
   "metadata": {},
   "outputs": [],
   "source": [
    "def load_image(image_path, transform=None):\n",
    "    image = Image.open(image_path)\n",
    "    image = image.resize([224, 224], Image.LANCZOS)\n",
    "    \n",
    "    if transform is not None:\n",
    "        image = transform(image).unsqueeze(0)\n",
    "    \n",
    "    return image\n",
    "    "
   ]
  },
  {
   "cell_type": "code",
   "execution_count": null,
   "metadata": {},
   "outputs": [],
   "source": [
    "def main(args):\n",
    "    # Image preprocessing\n",
    "    transform = transforms.Compose([\n",
    "        transforms.ToTensor(), \n",
    "        transforms.Normalize((0.485, 0.456, 0.406), \n",
    "                             (0.229, 0.224, 0.225))])\n",
    "    \n",
    "    # Load vocabulary wrapper\n",
    "    with open(args.vocab_path, 'rb') as f:\n",
    "        vocab = pickle.load(f)\n",
    "\n",
    "    # Build Models\n",
    "    encoder = EncoderCNN(args.embed_size)\n",
    "    encoder.eval()  # evaluation mode (BN uses moving mean/variance)\n",
    "    decoder = DecoderRNN(args.embed_size, args.hidden_size, \n",
    "                         len(vocab), args.num_layers)\n",
    "    \n",
    "\n",
    "    # Load the trained model parameters\n",
    "    encoder.load_state_dict(torch.load(args.encoder_path))\n",
    "    decoder.load_state_dict(torch.load(args.decoder_path))\n",
    "\n",
    "    # Prepare Image\n",
    "    image = load_image(args.image, transform)\n",
    "    image_tensor = to_var(image, volatile=True)\n",
    "    \n",
    "    # If use gpu\n",
    "    if torch.cuda.is_available():\n",
    "        encoder.cuda()\n",
    "        decoder.cuda()\n",
    "    \n",
    "    # Generate caption from image\n",
    "    feature = encoder(image_tensor)\n",
    "    sampled_ids = decoder.sample(feature)\n",
    "    sampled_ids = sampled_ids.cpu().data.numpy()\n",
    "    \n",
    "    # Decode word_ids to words\n",
    "    sampled_caption = []\n",
    "    for word_id in sampled_ids:\n",
    "        word = vocab.idx2word[word_id]\n",
    "        sampled_caption.append(word)\n",
    "        if word == '<end>':\n",
    "            break\n",
    "    sentence = ' '.join(sampled_caption)\n",
    "    \n",
    "    # Print out image and generated caption.\n",
    "    print (sentence)\n",
    "    image = Image.open(args.image)\n",
    "    plt.imshow(np.asarray(image))\n",
    "    "
   ]
  },
  {
   "cell_type": "code",
   "execution_count": null,
   "metadata": {},
   "outputs": [],
   "source": [
    "if __name__ == '__main__':\n",
    "    parser = argparse.ArgumentParser()\n",
    "    parser.add_argument('--image', type=str, required=True,\n",
    "                        help='input image for generating caption')\n",
    "    parser.add_argument('--encoder_path', type=str, default='./models/encoder-5-3000.pkl',\n",
    "                        help='path for trained encoder')\n",
    "    parser.add_argument('--decoder_path', type=str, default='./models/decoder-5-3000.pkl',\n",
    "                        help='path for trained decoder')\n",
    "    parser.add_argument('--vocab_path', type=str, default='./data/vocab.pkl',\n",
    "                        help='path for vocabulary wrapper')\n",
    "    \n",
    "    # Model parameters (should be same as paramters in train.py)\n",
    "    parser.add_argument('--embed_size', type=int , default=256,\n",
    "                        help='dimension of word embedding vectors')\n",
    "    parser.add_argument('--hidden_size', type=int , default=512,\n",
    "                        help='dimension of lstm hidden states')\n",
    "    parser.add_argument('--num_layers', type=int , default=1 ,\n",
    "                        help='number of layers in lstm')\n",
    "    args = parser.parse_args()\n",
    "    main(args)"
   ]
  }
 ],
 "metadata": {
  "kernelspec": {
   "display_name": "Python 3",
   "language": "python",
   "name": "python3"
  },
  "language_info": {
   "codemirror_mode": {
    "name": "ipython",
    "version": 3
   },
   "file_extension": ".py",
   "mimetype": "text/x-python",
   "name": "python",
   "nbconvert_exporter": "python",
   "pygments_lexer": "ipython3",
   "version": "3.5.2"
  }
 },
 "nbformat": 4,
 "nbformat_minor": 2
}
